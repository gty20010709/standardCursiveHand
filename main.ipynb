{
 "cells": [
  {
   "cell_type": "code",
   "execution_count": 2,
   "metadata": {},
   "outputs": [],
   "source": [
    "import fitz\n",
    "import os"
   ]
  },
  {
   "cell_type": "code",
   "execution_count": 3,
   "metadata": {},
   "outputs": [],
   "source": [
    "def pdfToImg(pdfName:str = 'book.pdf'):\n",
    "    '''\n",
    "    Use this function to split PDF file to images.\n",
    "    The default pdfName is 'book.pdf'.\n",
    "    '''\n",
    "    doc = fitz.open(pdfName)\n",
    "    totaling = doc.page_count\n",
    "    for pg in range(totaling):\n",
    "        page = doc[pg]\n",
    "        pm = page.get_pixmap()\n",
    "        pm.save(f'img/{pg}.png')\n",
    "pdfToImg()\n",
    "    "
   ]
  },
  {
   "cell_type": "code",
   "execution_count": null,
   "metadata": {},
   "outputs": [],
   "source": [
    "import cv2 as cv\n",
    "import time\n",
    "\n",
    "def cropImg(imgName:str):\n",
    "    img = cv.imread(imgName)\n",
    "    # cv.imshow(img)\n",
    "    time.sleep(2)\n",
    "    heigh,width = img.shape[:2]\n",
    "    print(heigh,width)\n",
    "    cropped = img[int(heigh*0.1):int(heigh*0.92),int(width*0.12):int(width*0.85)]\n",
    "    # cropped = img[0:500,0:300]\n",
    "    # cropped = img[0:heigh,0:width]\n",
    "    cv.imwrite(f'{imgName}',cropped)\n",
    "\n",
    "for i in range(26,85):\n",
    "    i = str(i).zfill(3)\n",
    "    cropImg(f'img/-{i}.png')\n",
    "\n"
   ]
  },
  {
   "cell_type": "code",
   "execution_count": 36,
   "metadata": {},
   "outputs": [
    {
     "data": {
      "text/plain": [
       "True"
      ]
     },
     "execution_count": 36,
     "metadata": {},
     "output_type": "execute_result"
    }
   ],
   "source": [
    "def onePair(imgName1,imgName2,fh1,fh2,fw1,fw2,sh1,sh2,sw1,sw2,flag):\n",
    "    img1 = cv.imread(imgName1)\n",
    "    img2 = cv.imread(imgName2)\n",
    "    heigh,width = img1.shape[:2]\n",
    "    firstCropped = img1[int(heigh*(fh1/8)):int(heigh*(fh2/8)),int(width*(fw1/4)):int(width*(fh2/4))]\n",
    "    cv.imwrite(f'{flag}-1.png',firstCropped)\n",
    "    secondCropped = img2[int(heigh*(sh1/8)):int(heigh*(sh2/8)),int(width*(sw1/4)):int(width*(sw2/4))]\n",
    "    cv.imwrite(f'{flag}-2.png',secondCropped)\n",
    "\n",
    "for imgName in range(26,82,2):\n",
    "    imgName1 = f'img/{str(imgName).zfill(3)}'\n",
    "    imgName2 = f'img/{str(imgName).zfill(3)}'\n"
   ]
  },
  {
   "cell_type": "code",
   "execution_count": 41,
   "metadata": {},
   "outputs": [],
   "source": [
    "\n",
    "def cropToRow(imgName):\n",
    "    flag = imgName.split('.')[0]\n",
    "    if int(flag)%2 == 0:\n",
    "        flagList = [1,2,3,4]\n",
    "    else:\n",
    "        flagList = [4,3,2,1]\n",
    "    img = cv.imread(imgName)\n",
    "    heigh,width = img.shape[:2]\n",
    "    for i in range(4):\n",
    "        cropped = img[0:heigh,int(width*(i/4)):int(width*((i+1)/4))]\n",
    "        if int(flag)%2 == 0:\n",
    "            ls = ['4', '3', '2', '1']\n",
    "            resultName = flag + '-' + ls[i] + '.png'\n",
    "        else:\n",
    "            ls = ['1', '2', '3', '4']\n",
    "            resultName = flag + '-' + ls[i] + '.png'\n",
    "        cv.imwrite(resultName,cropped)\n",
    "\n",
    "\n",
    "for i in range(26,85):\n",
    "    i = str(i).zfill(3)\n",
    "    imgName = f'{i}.png'\n",
    "    cropToRow(imgName)"
   ]
  },
  {
   "cell_type": "code",
   "execution_count": 52,
   "metadata": {},
   "outputs": [],
   "source": [
    "import os\n",
    "def cropToChar(imgName1,imgName2):\n",
    "    img1 = cv.imread(imgName1)\n",
    "    img2 = cv.imread(imgName2)\n",
    "    h1,w1 = img1.shape[:2]\n",
    "    h2,w2 = img2.shape[:2]\n",
    "    global flag\n",
    "    for i in range(8):\n",
    "        cropped1 = img1[int(h1*(i/8)):int(h1*((i+1)/8)),0:w1]\n",
    "        cv.imwrite(f'{flag}-1.png',cropped1)\n",
    "        cropped2 = img2[int(h2*(i/8)):int(h2*((i+1)/8)),0:w2]\n",
    "        cv.imwrite(f'{flag}-2.png',cropped2)\n",
    "        flag += 1\n",
    "\n",
    "\n",
    "flag = 1\n",
    "for i in range(26,83,2):\n",
    "    for s in range(1,5):\n",
    "        i1 = str(i).zfill(3)\n",
    "        i2 = str(i+1).zfill(3)\n",
    "        imgName1 = f'{i1}-{str(s)}.png'\n",
    "        imgName2 = f'{i2}-{str(s)}.png'\n",
    "        os.remove(imgName1)\n",
    "        os.remove(imgName2)\n",
    "        # cropToChar(imgName1,imgName2)\n",
    "        # print(imgName1,imgName2)\n",
    "        # img = cv.imread(imgName1)\n",
    "        # print(img.shape)\n",
    "        # os.rename(imgName1,f'{flag}-{s}.png')\n",
    "        # os.rename(imgName2,f'{flag}-{s+1}.png')\n",
    "        # print(f'{flag}-{s}.png',f'{flag}-{s+1}.png')\n",
    "        # break\n",
    "    # flag += 1\n",
    "    # break\n",
    "\n"
   ]
  },
  {
   "cell_type": "code",
   "execution_count": 53,
   "metadata": {},
   "outputs": [
    {
     "name": "stdout",
     "output_type": "stream",
     "text": [
      "<img src=\"1-1.png\"/>\t<img src=\"1-2.png\"/>\n",
      "<img src=\"2-1.png\"/>\t<img src=\"2-2.png\"/>\n",
      "<img src=\"3-1.png\"/>\t<img src=\"3-2.png\"/>\n",
      "<img src=\"4-1.png\"/>\t<img src=\"4-2.png\"/>\n",
      "<img src=\"5-1.png\"/>\t<img src=\"5-2.png\"/>\n",
      "<img src=\"6-1.png\"/>\t<img src=\"6-2.png\"/>\n",
      "<img src=\"7-1.png\"/>\t<img src=\"7-2.png\"/>\n",
      "<img src=\"8-1.png\"/>\t<img src=\"8-2.png\"/>\n",
      "<img src=\"9-1.png\"/>\t<img src=\"9-2.png\"/>\n",
      "<img src=\"10-1.png\"/>\t<img src=\"10-2.png\"/>\n",
      "<img src=\"11-1.png\"/>\t<img src=\"11-2.png\"/>\n",
      "<img src=\"12-1.png\"/>\t<img src=\"12-2.png\"/>\n",
      "<img src=\"13-1.png\"/>\t<img src=\"13-2.png\"/>\n",
      "<img src=\"14-1.png\"/>\t<img src=\"14-2.png\"/>\n",
      "<img src=\"15-1.png\"/>\t<img src=\"15-2.png\"/>\n",
      "<img src=\"16-1.png\"/>\t<img src=\"16-2.png\"/>\n",
      "<img src=\"17-1.png\"/>\t<img src=\"17-2.png\"/>\n",
      "<img src=\"18-1.png\"/>\t<img src=\"18-2.png\"/>\n",
      "<img src=\"19-1.png\"/>\t<img src=\"19-2.png\"/>\n",
      "<img src=\"20-1.png\"/>\t<img src=\"20-2.png\"/>\n",
      "<img src=\"21-1.png\"/>\t<img src=\"21-2.png\"/>\n",
      "<img src=\"22-1.png\"/>\t<img src=\"22-2.png\"/>\n",
      "<img src=\"23-1.png\"/>\t<img src=\"23-2.png\"/>\n",
      "<img src=\"24-1.png\"/>\t<img src=\"24-2.png\"/>\n",
      "<img src=\"25-1.png\"/>\t<img src=\"25-2.png\"/>\n",
      "<img src=\"26-1.png\"/>\t<img src=\"26-2.png\"/>\n",
      "<img src=\"27-1.png\"/>\t<img src=\"27-2.png\"/>\n",
      "<img src=\"28-1.png\"/>\t<img src=\"28-2.png\"/>\n",
      "<img src=\"29-1.png\"/>\t<img src=\"29-2.png\"/>\n",
      "<img src=\"30-1.png\"/>\t<img src=\"30-2.png\"/>\n",
      "<img src=\"31-1.png\"/>\t<img src=\"31-2.png\"/>\n",
      "<img src=\"32-1.png\"/>\t<img src=\"32-2.png\"/>\n",
      "<img src=\"33-1.png\"/>\t<img src=\"33-2.png\"/>\n",
      "<img src=\"34-1.png\"/>\t<img src=\"34-2.png\"/>\n",
      "<img src=\"35-1.png\"/>\t<img src=\"35-2.png\"/>\n",
      "<img src=\"36-1.png\"/>\t<img src=\"36-2.png\"/>\n",
      "<img src=\"37-1.png\"/>\t<img src=\"37-2.png\"/>\n",
      "<img src=\"38-1.png\"/>\t<img src=\"38-2.png\"/>\n",
      "<img src=\"39-1.png\"/>\t<img src=\"39-2.png\"/>\n",
      "<img src=\"40-1.png\"/>\t<img src=\"40-2.png\"/>\n",
      "<img src=\"41-1.png\"/>\t<img src=\"41-2.png\"/>\n",
      "<img src=\"42-1.png\"/>\t<img src=\"42-2.png\"/>\n",
      "<img src=\"43-1.png\"/>\t<img src=\"43-2.png\"/>\n",
      "<img src=\"44-1.png\"/>\t<img src=\"44-2.png\"/>\n",
      "<img src=\"45-1.png\"/>\t<img src=\"45-2.png\"/>\n",
      "<img src=\"46-1.png\"/>\t<img src=\"46-2.png\"/>\n",
      "<img src=\"47-1.png\"/>\t<img src=\"47-2.png\"/>\n",
      "<img src=\"48-1.png\"/>\t<img src=\"48-2.png\"/>\n",
      "<img src=\"49-1.png\"/>\t<img src=\"49-2.png\"/>\n",
      "<img src=\"50-1.png\"/>\t<img src=\"50-2.png\"/>\n",
      "<img src=\"51-1.png\"/>\t<img src=\"51-2.png\"/>\n"
     ]
    }
   ],
   "source": [
    "for i in range(1,929):\n",
    "    part1 = f'<img src=\"{i}-1.png\"/>'\n",
    "    part2 = f'<img src=\"{i}-2.png\"/>'\n",
    "    s = f'{part1}\\t{part2}'\n",
    "    # print(s)\n",
    "    with open('Test.txt','w') as f:\n",
    "        f.write(s)\n",
    "        f.write('\\n')\n"
   ]
  }
 ],
 "metadata": {
  "kernelspec": {
   "display_name": "Python 3.10.4 64-bit",
   "language": "python",
   "name": "python3"
  },
  "language_info": {
   "codemirror_mode": {
    "name": "ipython",
    "version": 3
   },
   "file_extension": ".py",
   "mimetype": "text/x-python",
   "name": "python",
   "nbconvert_exporter": "python",
   "pygments_lexer": "ipython3",
   "version": "3.10.4"
  },
  "orig_nbformat": 4,
  "vscode": {
   "interpreter": {
    "hash": "e7370f93d1d0cde622a1f8e1c04877d8463912d04d973331ad4851f04de6915a"
   }
  }
 },
 "nbformat": 4,
 "nbformat_minor": 2
}
